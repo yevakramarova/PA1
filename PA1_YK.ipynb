{
 "cells": [
  {
   "cell_type": "markdown",
   "id": "c88c3d59-8624-4570-b8f9-792fd1619f3a",
   "metadata": {},
   "source": [
    "# Programming Assignment 1\n",
    "---\n",
    "**Author:** Yeva Kramarova  \n",
    "**Version:** 1.0  \n",
    "**Semester:** Spring 2024 \n",
    "\n",
    "This *notebook* contains my solution(s) to **Programming Assignment 1**\n",
    "\n",
    "- Problem 1: Manipulating Numbers.\n",
    "- Problem 2: Calculating Target Heart Rate."
   ]
  },
  {
   "cell_type": "markdown",
   "id": "1b8dbe15-8501-489b-82aa-c88af0ffd634",
   "metadata": {},
   "source": [
    "### Problem 1 - Manipulating Numbers "
   ]
  },
  {
   "cell_type": "code",
   "execution_count": 1,
   "id": "f4848bd0-9b3a-4d05-81da-1d060a51f549",
   "metadata": {
    "tags": []
   },
   "outputs": [],
   "source": [
    "prompt = 'Enter a floating point number.'"
   ]
  },
  {
   "cell_type": "code",
   "execution_count": 5,
   "id": "4cfa67e3-c977-4fb0-9185-9c06e6fba530",
   "metadata": {
    "tags": []
   },
   "outputs": [
    {
     "name": "stdin",
     "output_type": "stream",
     "text": [
      "Enter a floating point number. 44.3\n"
     ]
    }
   ],
   "source": [
    "input1 = input(prompt)"
   ]
  },
  {
   "cell_type": "code",
   "execution_count": 3,
   "id": "fbd08ba5-d004-4237-a06c-9cf0849733d3",
   "metadata": {
    "tags": []
   },
   "outputs": [
    {
     "name": "stdout",
     "output_type": "stream",
     "text": [
      "44.3\n"
     ]
    }
   ],
   "source": [
    "print(input1)"
   ]
  },
  {
   "cell_type": "code",
   "execution_count": 11,
   "id": "0d32e1b2-c736-4cb2-b8c0-ba25943978fa",
   "metadata": {
    "tags": []
   },
   "outputs": [],
   "source": [
    "prompt = 'Enter an integer.'"
   ]
  },
  {
   "cell_type": "code",
   "execution_count": 6,
   "id": "13b9312e-c590-4461-9a3e-0e3059e1fb6d",
   "metadata": {
    "tags": []
   },
   "outputs": [
    {
     "name": "stdin",
     "output_type": "stream",
     "text": [
      "Enter a floating point number. 16\n"
     ]
    }
   ],
   "source": [
    "input2 = input(prompt)"
   ]
  },
  {
   "cell_type": "code",
   "execution_count": 25,
   "id": "af35abd5-1f10-4543-8002-0f68fab21754",
   "metadata": {
    "tags": []
   },
   "outputs": [],
   "source": [
    "result = float(input1) + int(input2)"
   ]
  },
  {
   "cell_type": "code",
   "execution_count": 26,
   "id": "713b0c55-d87e-4a02-86b5-73f30ea93664",
   "metadata": {
    "tags": []
   },
   "outputs": [
    {
     "name": "stdout",
     "output_type": "stream",
     "text": [
      "60.3\n"
     ]
    }
   ],
   "source": [
    "print(result)"
   ]
  },
  {
   "cell_type": "code",
   "execution_count": 27,
   "id": "6dc65b1c-c979-4245-a55d-b5d87ebfe85d",
   "metadata": {
    "tags": []
   },
   "outputs": [
    {
     "name": "stdout",
     "output_type": "stream",
     "text": [
      "The sum is 60.300.\n"
     ]
    }
   ],
   "source": [
    "print(f'The sum is {result:.3f}.')"
   ]
  },
  {
   "cell_type": "code",
   "execution_count": 28,
   "id": "381f1aa7-0c7f-4901-ac3b-deb8e7edf8fe",
   "metadata": {
    "tags": []
   },
   "outputs": [],
   "source": [
    "result = float(input1) - int(input2)"
   ]
  },
  {
   "cell_type": "code",
   "execution_count": 29,
   "id": "547d54b3-225c-445d-a0c7-eff9b92bd8d9",
   "metadata": {
    "tags": []
   },
   "outputs": [
    {
     "name": "stdout",
     "output_type": "stream",
     "text": [
      "28.299999999999997\n"
     ]
    }
   ],
   "source": [
    "print(result)"
   ]
  },
  {
   "cell_type": "code",
   "execution_count": 30,
   "id": "73d8689d-7ff2-4af5-98f2-5b36c61cf3a7",
   "metadata": {
    "tags": []
   },
   "outputs": [
    {
     "name": "stdout",
     "output_type": "stream",
     "text": [
      "The difference is 28.300.\n"
     ]
    }
   ],
   "source": [
    "print(f'The difference is {result:.3f}.')"
   ]
  },
  {
   "cell_type": "code",
   "execution_count": 31,
   "id": "6d10a809-8fbf-405a-a2d3-308eadfa0624",
   "metadata": {
    "tags": []
   },
   "outputs": [],
   "source": [
    "result = float(input1) * int(input2)"
   ]
  },
  {
   "cell_type": "code",
   "execution_count": 32,
   "id": "d9a5cbff-433c-4044-a8ed-90342cd59d99",
   "metadata": {
    "tags": []
   },
   "outputs": [
    {
     "name": "stdout",
     "output_type": "stream",
     "text": [
      "708.8\n"
     ]
    }
   ],
   "source": [
    "print(result)"
   ]
  },
  {
   "cell_type": "code",
   "execution_count": 33,
   "id": "76241b27-f6d3-4ce4-aaab-20bd286b546f",
   "metadata": {
    "tags": []
   },
   "outputs": [
    {
     "name": "stdout",
     "output_type": "stream",
     "text": [
      "The product is 708.800.\n"
     ]
    }
   ],
   "source": [
    "print(f'The product is {result:.3f}.')"
   ]
  },
  {
   "cell_type": "code",
   "execution_count": 34,
   "id": "88650781-a880-4dea-83b8-fd1718d05c1b",
   "metadata": {
    "tags": []
   },
   "outputs": [],
   "source": [
    "result = float(input1) / int(input2)"
   ]
  },
  {
   "cell_type": "code",
   "execution_count": 35,
   "id": "24b8f2d6-0a21-4b6b-87e9-fa34b963c8f2",
   "metadata": {
    "tags": []
   },
   "outputs": [
    {
     "name": "stdout",
     "output_type": "stream",
     "text": [
      "2.76875\n"
     ]
    }
   ],
   "source": [
    "print(result)"
   ]
  },
  {
   "cell_type": "code",
   "execution_count": 36,
   "id": "34e1aec4-bf95-4031-bb6d-d5a78c3579f6",
   "metadata": {
    "tags": []
   },
   "outputs": [
    {
     "name": "stdout",
     "output_type": "stream",
     "text": [
      "The product is 2.769.\n"
     ]
    }
   ],
   "source": [
    "print(f'The product is {result:.3f}.')"
   ]
  },
  {
   "cell_type": "markdown",
   "id": "56ed9ab1-118a-464f-8c6f-893b704f737a",
   "metadata": {},
   "source": [
    "### Problem 2 - Calculating Target Heart Rate"
   ]
  },
  {
   "cell_type": "code",
   "execution_count": 8,
   "id": "c27fdd66-6d70-4c31-bee2-0543b56f9b84",
   "metadata": {
    "tags": []
   },
   "outputs": [
    {
     "name": "stdin",
     "output_type": "stream",
     "text": [
      "Enter your age:  22\n"
     ]
    },
    {
     "name": "stdout",
     "output_type": "stream",
     "text": [
      "\n",
      "Maximum Heart Rate: 198 beats per minute\n",
      "Upper Heart Rate Limit for Exercise: 168.30 beats per minute\n",
      "Lower Heart Rate Limit for Exercise: 99.00 beats per minute\n"
     ]
    }
   ],
   "source": [
    "age = int(input(\"Enter your age: \"))\n",
    "\n",
    "# Calculating the maximum heart rate\n",
    "max_heart_rate = 220 - age\n",
    "\n",
    "# Calculating upper and lower heart rate limits for exercise\n",
    "upper_limit = 0.85 * max_heart_rate\n",
    "lower_limit = 0.50 * max_heart_rate\n",
    "\n",
    "#Printing outputs\n",
    "print(f\"\\nMaximum Heart Rate: {max_heart_rate} beats per minute\")\n",
    "print(f\"Upper Heart Rate Limit for Exercise: {upper_limit:.2f} beats per minute\")\n",
    "print(f\"Lower Heart Rate Limit for Exercise: {lower_limit:.2f} beats per minute\")\n",
    "\n"
   ]
  },
  {
   "cell_type": "code",
   "execution_count": null,
   "id": "2710e947-c13d-43d3-8673-6a8ba35b3178",
   "metadata": {},
   "outputs": [],
   "source": []
  }
 ],
 "metadata": {
  "kernelspec": {
   "display_name": "Python 3 (ipykernel)",
   "language": "python",
   "name": "python3"
  },
  "language_info": {
   "codemirror_mode": {
    "name": "ipython",
    "version": 3
   },
   "file_extension": ".py",
   "mimetype": "text/x-python",
   "name": "python",
   "nbconvert_exporter": "python",
   "pygments_lexer": "ipython3",
   "version": "3.11.5"
  }
 },
 "nbformat": 4,
 "nbformat_minor": 5
}
